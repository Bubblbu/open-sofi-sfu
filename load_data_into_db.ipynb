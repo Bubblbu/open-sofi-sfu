{
 "cells": [
  {
   "cell_type": "code",
   "execution_count": 52,
   "id": "9da25069-88c2-4b18-8bdd-fba1e39070fa",
   "metadata": {},
   "outputs": [],
   "source": [
    "from pathlib import Path\n",
    "\n",
    "import pandas as pd\n",
    "\n",
    "from sqlite_utils import Database\n",
    "import sqlite3"
   ]
  },
  {
   "cell_type": "code",
   "execution_count": 7,
   "id": "9f724767-82b1-467f-ad28-439ad88e6aa8",
   "metadata": {},
   "outputs": [],
   "source": [
    "p_data = Path(\"data\")\n",
    "p_rawdata = data_dir / \"raw\""
   ]
  },
  {
   "cell_type": "code",
   "execution_count": 5,
   "id": "9d9d2c54-13f9-4992-9634-b29ec024ac55",
   "metadata": {},
   "outputs": [],
   "source": [
    "db = Database(p_data / \"open_sofi.db\")"
   ]
  },
  {
   "cell_type": "code",
   "execution_count": 33,
   "id": "71160199-3411-4e44-8ce7-71cb5e448869",
   "metadata": {},
   "outputs": [],
   "source": [
    "vendor_data = pd.read_excel(p_rawdata / \"vendors.ods\", sheet_name=None) "
   ]
  },
  {
   "cell_type": "code",
   "execution_count": 41,
   "id": "a5a2acdf-996d-41aa-8acd-6bfea65c6853",
   "metadata": {},
   "outputs": [],
   "source": [
    "vendor_names = vendor_data['Full name listing'].drop_duplicates().reset_index(drop=True)\n",
    "\n",
    "# Insert vendors\n",
    "vendors = db[\"vendors\"]\n",
    "vendors.insert_all(vendor_names..to_dict(orient=\"records\"))"
   ]
  },
  {
   "cell_type": "code",
   "execution_count": 49,
   "id": "479cd472-a526-44df-94c7-d94d8175d650",
   "metadata": {},
   "outputs": [],
   "source": [
    "transactions = pd.DataFrame()\n",
    "for year in [\"2020\", \"2019\", \"2018\", \"2017\"]:\n",
    "    df = vendor_data[year]\n",
    "    df['year'] = int(year)\n",
    "    df = df.drop_duplicates()\n",
    "    df = df[df.vendor.isin(vendors.name)]\n",
    "    transactions = transactions.append(df)\n",
    "transactions = transactions.reset_index(drop=True)"
   ]
  },
  {
   "cell_type": "code",
   "execution_count": 66,
   "id": "f9608e8b-292d-45e6-a818-b5b66ef4d140",
   "metadata": {},
   "outputs": [
    {
     "data": {
      "text/plain": [
       "<Table transactions (vendor, amount, year)>"
      ]
     },
     "execution_count": 66,
     "metadata": {},
     "output_type": "execute_result"
    }
   ],
   "source": [
    "# Insert transactions\n",
    "trans = db[\"transactions\"]\n",
    "trans.insert_all(transactions.to_dict(orient=\"records\"))"
   ]
  },
  {
   "cell_type": "code",
   "execution_count": 68,
   "id": "7bfb4454-703c-4bcf-8b5f-f14db700930b",
   "metadata": {},
   "outputs": [
    {
     "data": {
      "text/html": [
       "<div>\n",
       "<style scoped>\n",
       "    .dataframe tbody tr th:only-of-type {\n",
       "        vertical-align: middle;\n",
       "    }\n",
       "\n",
       "    .dataframe tbody tr th {\n",
       "        vertical-align: top;\n",
       "    }\n",
       "\n",
       "    .dataframe thead th {\n",
       "        text-align: right;\n",
       "    }\n",
       "</style>\n",
       "<table border=\"1\" class=\"dataframe\">\n",
       "  <thead>\n",
       "    <tr style=\"text-align: right;\">\n",
       "      <th>year</th>\n",
       "      <th>2017</th>\n",
       "      <th>2018</th>\n",
       "      <th>2019</th>\n",
       "      <th>2020</th>\n",
       "    </tr>\n",
       "    <tr>\n",
       "      <th>vendor</th>\n",
       "      <th></th>\n",
       "      <th></th>\n",
       "      <th></th>\n",
       "      <th></th>\n",
       "    </tr>\n",
       "  </thead>\n",
       "  <tbody>\n",
       "    <tr>\n",
       "      <th>0713318 BC Ltd (Retro Specialty Contractors)</th>\n",
       "      <td>NaN</td>\n",
       "      <td>39386.0</td>\n",
       "      <td>NaN</td>\n",
       "      <td>NaN</td>\n",
       "    </tr>\n",
       "    <tr>\n",
       "      <th>0733244 BC Ltd (Prestige North Coast Meeting &amp;Convention Centre)</th>\n",
       "      <td>NaN</td>\n",
       "      <td>27793.0</td>\n",
       "      <td>NaN</td>\n",
       "      <td>NaN</td>\n",
       "    </tr>\n",
       "    <tr>\n",
       "      <th>101 West Hastings Holding Ltd</th>\n",
       "      <td>209266.0</td>\n",
       "      <td>248539.0</td>\n",
       "      <td>241224.0</td>\n",
       "      <td>NaN</td>\n",
       "    </tr>\n",
       "    <tr>\n",
       "      <th>1034 Tokyo Resources Inc</th>\n",
       "      <td>NaN</td>\n",
       "      <td>NaN</td>\n",
       "      <td>27000.0</td>\n",
       "      <td>NaN</td>\n",
       "    </tr>\n",
       "    <tr>\n",
       "      <th>1194200 BC Ltd</th>\n",
       "      <td>NaN</td>\n",
       "      <td>NaN</td>\n",
       "      <td>25274.0</td>\n",
       "      <td>NaN</td>\n",
       "    </tr>\n",
       "    <tr>\n",
       "      <th>...</th>\n",
       "      <td>...</td>\n",
       "      <td>...</td>\n",
       "      <td>...</td>\n",
       "      <td>...</td>\n",
       "    </tr>\n",
       "    <tr>\n",
       "      <th>eVision Inc</th>\n",
       "      <td>NaN</td>\n",
       "      <td>NaN</td>\n",
       "      <td>105402.0</td>\n",
       "      <td>NaN</td>\n",
       "    </tr>\n",
       "    <tr>\n",
       "      <th>iGive Consulting Inc</th>\n",
       "      <td>NaN</td>\n",
       "      <td>NaN</td>\n",
       "      <td>91875.0</td>\n",
       "      <td>NaN</td>\n",
       "    </tr>\n",
       "    <tr>\n",
       "      <th>iWorx Systems Inc</th>\n",
       "      <td>NaN</td>\n",
       "      <td>53408.0</td>\n",
       "      <td>NaN</td>\n",
       "      <td>NaN</td>\n",
       "    </tr>\n",
       "    <tr>\n",
       "      <th>ownCloud Inc</th>\n",
       "      <td>NaN</td>\n",
       "      <td>37976.0</td>\n",
       "      <td>NaN</td>\n",
       "      <td>NaN</td>\n",
       "    </tr>\n",
       "    <tr>\n",
       "      <th>peerTransfer Education Corp</th>\n",
       "      <td>NaN</td>\n",
       "      <td>25940.0</td>\n",
       "      <td>NaN</td>\n",
       "      <td>NaN</td>\n",
       "    </tr>\n",
       "  </tbody>\n",
       "</table>\n",
       "<p>1460 rows × 4 columns</p>\n",
       "</div>"
      ],
      "text/plain": [
       "year                                                    2017      2018  \\\n",
       "vendor                                                                   \n",
       "0713318 BC Ltd (Retro Specialty Contractors)             NaN   39386.0   \n",
       "0733244 BC Ltd (Prestige North Coast Meeting &C...       NaN   27793.0   \n",
       "101 West Hastings Holding Ltd                       209266.0  248539.0   \n",
       "1034 Tokyo Resources Inc                                 NaN       NaN   \n",
       "1194200 BC Ltd                                           NaN       NaN   \n",
       "...                                                      ...       ...   \n",
       "eVision Inc                                              NaN       NaN   \n",
       "iGive Consulting Inc                                     NaN       NaN   \n",
       "iWorx Systems Inc                                        NaN   53408.0   \n",
       "ownCloud Inc                                             NaN   37976.0   \n",
       "peerTransfer Education Corp                              NaN   25940.0   \n",
       "\n",
       "year                                                    2019  2020  \n",
       "vendor                                                              \n",
       "0713318 BC Ltd (Retro Specialty Contractors)             NaN   NaN  \n",
       "0733244 BC Ltd (Prestige North Coast Meeting &C...       NaN   NaN  \n",
       "101 West Hastings Holding Ltd                       241224.0   NaN  \n",
       "1034 Tokyo Resources Inc                             27000.0   NaN  \n",
       "1194200 BC Ltd                                       25274.0   NaN  \n",
       "...                                                      ...   ...  \n",
       "eVision Inc                                         105402.0   NaN  \n",
       "iGive Consulting Inc                                 91875.0   NaN  \n",
       "iWorx Systems Inc                                        NaN   NaN  \n",
       "ownCloud Inc                                             NaN   NaN  \n",
       "peerTransfer Education Corp                              NaN   NaN  \n",
       "\n",
       "[1460 rows x 4 columns]"
      ]
     },
     "execution_count": 68,
     "metadata": {},
     "output_type": "execute_result"
    }
   ],
   "source": [
    "transactions.pivot(index=\"vendor\", columns=\"year\", values=\"amount\")"
   ]
  }
 ],
 "metadata": {
  "kernelspec": {
   "display_name": "open-sofi-sfu",
   "language": "python",
   "name": "open-sofi-sfu"
  },
  "language_info": {
   "codemirror_mode": {
    "name": "ipython",
    "version": 3
   },
   "file_extension": ".py",
   "mimetype": "text/x-python",
   "name": "python",
   "nbconvert_exporter": "python",
   "pygments_lexer": "ipython3",
   "version": "3.8.12"
  }
 },
 "nbformat": 4,
 "nbformat_minor": 5
}
